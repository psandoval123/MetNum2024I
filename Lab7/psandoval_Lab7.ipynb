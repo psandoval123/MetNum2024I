{
  "cells": [
    {
      "cell_type": "markdown",
      "metadata": {
        "id": "view-in-github",
        "colab_type": "text"
      },
      "source": [
        "<a href=\"https://colab.research.google.com/github/psandoval123/MetNum2024I/blob/main/Lab7/psandoval_Lab7.ipynb\" target=\"_parent\"><img src=\"https://colab.research.google.com/assets/colab-badge.svg\" alt=\"Open In Colab\"/></a>"
      ]
    },
    {
      "cell_type": "markdown",
      "metadata": {
        "id": "_7zSSeX21Grj"
      },
      "source": [
        "# Simple iteration for systems of linear equations"
      ]
    },
    {
      "cell_type": "markdown",
      "metadata": {
        "id": "GRz8VJ0N1Grn"
      },
      "source": [
        "First, generate a random diagonally dominant matrix, for testing."
      ]
    },
    {
      "cell_type": "code",
      "execution_count": null,
      "metadata": {
        "collapsed": true,
        "id": "jTVkb-WZ1Gro"
      },
      "outputs": [],
      "source": [
        "import numpy as np\n",
        "rndm = np.random.RandomState(1234)\n",
        "\n",
        "n = 10\n",
        "A = rndm.uniform(size=(n, n)) + np.diagflat([15]*n)\n",
        "b = rndm.uniform(size=n)"
      ]
    },
    {
      "cell_type": "code",
      "source": [
        "A"
      ],
      "metadata": {
        "id": "4mv5q-nMKZwY",
        "outputId": "b8991218-483a-4afc-9fb9-4f698469422e",
        "colab": {
          "base_uri": "https://localhost:8080/"
        }
      },
      "execution_count": null,
      "outputs": [
        {
          "output_type": "execute_result",
          "data": {
            "text/plain": [
              "array([[1.51915195e+01, 6.22108771e-01, 4.37727739e-01, 7.85358584e-01,\n",
              "        7.79975808e-01, 2.72592605e-01, 2.76464255e-01, 8.01872178e-01,\n",
              "        9.58139354e-01, 8.75932635e-01],\n",
              "       [3.57817270e-01, 1.55009951e+01, 6.83462935e-01, 7.12702027e-01,\n",
              "        3.70250755e-01, 5.61196186e-01, 5.03083165e-01, 1.37684496e-02,\n",
              "        7.72826622e-01, 8.82641191e-01],\n",
              "       [3.64885984e-01, 6.15396178e-01, 1.50753812e+01, 3.68824006e-01,\n",
              "        9.33140102e-01, 6.51378143e-01, 3.97202578e-01, 7.88730143e-01,\n",
              "        3.16836122e-01, 5.68098653e-01],\n",
              "       [8.69127390e-01, 4.36173424e-01, 8.02147642e-01, 1.51437668e+01,\n",
              "        7.04260971e-01, 7.04581308e-01, 2.18792106e-01, 9.24867629e-01,\n",
              "        4.42140755e-01, 9.09315959e-01],\n",
              "       [5.98092228e-02, 1.84287084e-01, 4.73552788e-02, 6.74880944e-01,\n",
              "        1.55946248e+01, 5.33310163e-01, 4.33240627e-02, 5.61433080e-01,\n",
              "        3.29668446e-01, 5.02966833e-01],\n",
              "       [1.11894318e-01, 6.07193706e-01, 5.65944643e-01, 6.76406199e-03,\n",
              "        6.17441709e-01, 1.59121229e+01, 7.90524133e-01, 9.92081466e-01,\n",
              "        9.58801762e-01, 7.91964135e-01],\n",
              "       [2.85250960e-01, 6.24916705e-01, 4.78093796e-01, 1.95675179e-01,\n",
              "        3.82317452e-01, 5.38736851e-02, 1.54516484e+01, 9.82004742e-01,\n",
              "        1.23942700e-01, 1.19380898e-01],\n",
              "       [7.38523056e-01, 5.87303633e-01, 4.71632534e-01, 1.07126817e-01,\n",
              "        2.29218565e-01, 8.99965195e-01, 4.16753538e-01, 1.55358517e+01,\n",
              "        6.20851659e-03, 3.00641706e-01],\n",
              "       [4.36893172e-01, 6.12148997e-01, 9.18198075e-01, 6.25736670e-01,\n",
              "        7.05997565e-01, 1.49833716e-01, 7.46063409e-01, 8.31006992e-01,\n",
              "        1.56337258e+01, 4.38309881e-01],\n",
              "       [1.52572775e-01, 5.68409615e-01, 5.28224278e-01, 9.51428764e-01,\n",
              "        4.80359179e-01, 5.02559563e-01, 5.36878193e-01, 8.19202067e-01,\n",
              "        5.71156381e-02, 1.56694217e+01]])"
            ]
          },
          "metadata": {},
          "execution_count": 3
        }
      ]
    },
    {
      "cell_type": "markdown",
      "metadata": {
        "id": "oNGIGBex1Grq"
      },
      "source": [
        "# I.  Jacobi iteration\n",
        "\n",
        "Given\n",
        "\n",
        "$$\n",
        "A x = b\n",
        "$$\n",
        "\n",
        "separate the diagonal part $D$,\n",
        "\n",
        "$$ A = D + (A - D) $$\n",
        "\n",
        "and write\n",
        "\n",
        "$$\n",
        "x = D^{-1} (D - A) x + D^{-1} b\\;.\n",
        "$$\n",
        "\n",
        "Then iterate\n",
        "\n",
        "$$\n",
        "x_{n + 1} = B x_{n} + c\\;,\n",
        "$$\n",
        "\n",
        "where\n",
        "\n",
        "$$\n",
        "B = D^{-1} (A - D) \\qquad \\text{and} \\qquad c = D^{-1} b\n",
        "$$\n"
      ]
    },
    {
      "cell_type": "markdown",
      "metadata": {
        "id": "rB2PHHIK1Grr"
      },
      "source": [
        "Let's construct the matrix and the r.h.s. for the Jacobi iteration"
      ]
    },
    {
      "cell_type": "code",
      "execution_count": null,
      "metadata": {
        "id": "bnk796g61Grr"
      },
      "outputs": [],
      "source": [
        "diag_1d = np.diag(A)\n",
        "\n",
        "B = -A.copy()\n",
        "np.fill_diagonal(B, 0)\n",
        "\n",
        "D = np.diag(diag_1d)\n",
        "invD = np.diag(1./diag_1d)\n",
        "BB = invD @ B\n",
        "c = invD @ b"
      ]
    },
    {
      "cell_type": "code",
      "execution_count": null,
      "metadata": {
        "id": "0NTUyC3i1Grs"
      },
      "outputs": [],
      "source": [
        "# sanity checks\n",
        "from numpy.testing import assert_allclose\n",
        "\n",
        "assert_allclose(-B + D, A)\n",
        "\n",
        "\n",
        "# xx is a \"ground truth\" solution, compute it using a direct method\n",
        "xx = np.linalg.solve(A, b)\n",
        "\n",
        "np.testing.assert_allclose(A@xx, b)\n",
        "np.testing.assert_allclose(D@xx, B@xx + b)\n",
        "np.testing.assert_allclose(xx, BB@xx + c)"
      ]
    },
    {
      "cell_type": "markdown",
      "metadata": {
        "id": "nRaVUE6U1Grt"
      },
      "source": [
        "Check that $\\| B\\| \\leqslant 1$:"
      ]
    },
    {
      "cell_type": "code",
      "execution_count": null,
      "metadata": {
        "id": "zgED2OGu1Gru",
        "outputId": "6e008f71-0d4f-4ab8-8abe-ff43f70626ff",
        "colab": {
          "base_uri": "https://localhost:8080/"
        }
      },
      "outputs": [
        {
          "output_type": "execute_result",
          "data": {
            "text/plain": [
              "0.36436161983015336"
            ]
          },
          "metadata": {},
          "execution_count": 6
        }
      ],
      "source": [
        "np.linalg.norm(BB)"
      ]
    },
    {
      "cell_type": "markdown",
      "metadata": {
        "id": "rlBcusqg1Grv"
      },
      "source": [
        "### Do the Jacobi iteration"
      ]
    },
    {
      "cell_type": "code",
      "execution_count": null,
      "metadata": {
        "collapsed": true,
        "id": "NK6iwDtm1Grv"
      },
      "outputs": [],
      "source": [
        "n_iter = 50\n",
        "\n",
        "x0 = np.ones(n)\n",
        "x = x0\n",
        "for _ in range(n_iter):\n",
        "    x = BB @ x + c"
      ]
    },
    {
      "cell_type": "code",
      "execution_count": null,
      "metadata": {
        "id": "gsLyio7W1Grw",
        "outputId": "d1873882-637e-47cf-abd7-690e01c904cd",
        "colab": {
          "base_uri": "https://localhost:8080/"
        }
      },
      "outputs": [
        {
          "output_type": "execute_result",
          "data": {
            "text/plain": [
              "array([ 1.11022302e-16,  0.00000000e+00, -2.22044605e-16, -1.11022302e-16,\n",
              "        1.11022302e-16,  0.00000000e+00, -2.42861287e-17,  0.00000000e+00,\n",
              "       -2.77555756e-17,  1.11022302e-16])"
            ]
          },
          "metadata": {},
          "execution_count": 8
        }
      ],
      "source": [
        "# Check the result:\n",
        "\n",
        "A @ x - b"
      ]
    },
    {
      "cell_type": "markdown",
      "metadata": {
        "id": "MXfb9BuT1Grw"
      },
      "source": [
        "### Task I.1\n",
        "\n",
        "Collect the proof-of-concept above into a single function implementing the Jacobi iteration. This function should receive the r.h.s. matrix $A$, the l.h.s. vector `b`, and the number of iterations to perform.\n",
        "\n",
        "\n",
        "The matrix $A$ in the illustration above is strongly diagonally dominant, by construction.\n",
        "What happens if the diagonal matrix elements of $A$ are made smaller? Check the convergence of the Jacobi iteration, and check the value of the norm of $B$.\n",
        "\n",
        "(20% of the total grade)\n"
      ]
    },
    {
      "cell_type": "code",
      "execution_count": null,
      "metadata": {
        "id": "5zqTUVVa1Grw",
        "colab": {
          "base_uri": "https://localhost:8080/"
        },
        "outputId": "7c699aec-1148-43e2-989f-70bd72692496"
      },
      "outputs": [
        {
          "output_type": "execute_result",
          "data": {
            "text/plain": [
              "(array([ 0.03919429,  0.03780037,  0.04283232,  0.02365951,  0.05745031,\n",
              "        -0.00030244, -0.00577279,  0.03177549, -0.00422849,  0.05284648]),\n",
              " 0.36436161983015336)"
            ]
          },
          "metadata": {},
          "execution_count": 9
        }
      ],
      "source": [
        "# ... ENTER YOUR CODE HERE ...\n",
        "def jacobi(A, b, num_it=1000):\n",
        "    n = A.shape[0]\n",
        "    diag_A = np.diag(A)\n",
        "    B = np.zeros_like(A)\n",
        "\n",
        "    for i in range(n):\n",
        "        for j in range(n):\n",
        "            if i != j:\n",
        "                B[i, j] = -A[i, j] / diag_A[i]\n",
        "\n",
        "    c = b / diag_A\n",
        "    norm = np.linalg.norm(B)\n",
        "\n",
        "    x0 = np.ones(n)\n",
        "    x = x0\n",
        "    for _ in range(num_it):\n",
        "        x = B @ x + c\n",
        "\n",
        "    return x, norm\n",
        "\n",
        "\n",
        "jacobi(A, b)\n"
      ]
    },
    {
      "cell_type": "markdown",
      "metadata": {
        "id": "xBnguRFT1Grx"
      },
      "source": [
        "# II. Seidel's iteration."
      ]
    },
    {
      "cell_type": "markdown",
      "metadata": {
        "id": "rSbuFdYU1Grx"
      },
      "source": [
        "##### Task II.1\n",
        "\n",
        "Implement the Seidel's iteration.\n",
        "\n",
        "Test it on a random matrix. Study the convergence of iterations, relate to the norm of the iteration matrix.\n",
        "\n",
        "(30% of the total grade)"
      ]
    },
    {
      "cell_type": "code",
      "source": [
        "import matplotlib.pyplot as plt\n",
        "\n",
        "def gauss_seidel(A, b, x_0, tol, max_iter):\n",
        "\n",
        "  x = x_0.copy()\n",
        "\n",
        "  for i in range(max_iter):\n",
        "\n",
        "    for j in range(A.shape[0]):\n",
        "      x[j] = (b[j] - np.dot(A[j, :j], x[:j])) / A[j, j]\n",
        "\n",
        "    norm_x = np.linalg.norm(x - x_0)\n",
        "    if norm_x < tol:\n",
        "      break\n",
        "\n",
        "  return x\n",
        "\n",
        "A = np.random.rand(10, 10)\n",
        "b = np.random.rand(10)\n",
        "print(A)\n",
        "x = gauss_seidel(A, b, np.zeros(10), 1e-6, 100)\n",
        "\n",
        "true_x = np.linalg.solve(A, b)\n",
        "\n",
        "error = np.linalg.norm(x - true_x)\n",
        "print(error)\n",
        "\n",
        "error_list = []\n",
        "for i in range(1, 100):\n",
        "  x = gauss_seidel(A, b, np.zeros(10), 1e-6, i)\n",
        "  error_list.append(np.linalg.norm(x - true_x))\n"
      ],
      "metadata": {
        "colab": {
          "base_uri": "https://localhost:8080/"
        },
        "id": "OX3hlMTILd9c",
        "outputId": "d691606a-0e9e-4cbf-a0d8-e5506999eff8"
      },
      "execution_count": null,
      "outputs": [
        {
          "output_type": "stream",
          "name": "stdout",
          "text": [
            "[[0.34187116 0.45376824 0.31791091 0.72503365 0.45974978 0.91129982\n",
            "  0.36122294 0.1005722  0.78755274 0.59222187]\n",
            " [0.72408235 0.19423426 0.92865247 0.8061134  0.82761295 0.59195925\n",
            "  0.71845798 0.86061365 0.91459643 0.32205375]\n",
            " [0.82992399 0.84372723 0.6708093  0.60304153 0.14316406 0.1873763\n",
            "  0.7805792  0.25007811 0.87005774 0.63280404]\n",
            " [0.95352256 0.97765335 0.86715816 0.58569286 0.50520347 0.39647049\n",
            "  0.36690623 0.43794065 0.63916442 0.64616292]\n",
            " [0.8575902  0.15106798 0.02350704 0.45931499 0.19834969 0.20470058\n",
            "  0.47393652 0.46787272 0.40131357 0.75368993]\n",
            " [0.40815513 0.9357577  0.16440515 0.21487474 0.83117971 0.30568327\n",
            "  0.70673948 0.5157713  0.4510183  0.43041778]\n",
            " [0.0621954  0.05997763 0.5558661  0.71655587 0.13183341 0.13372031\n",
            "  0.99142568 0.95311723 0.38354378 0.71540915]\n",
            " [0.40845653 0.65240041 0.0382623  0.6275028  0.4027578  0.76120779\n",
            "  0.99597245 0.01922291 0.32192955 0.84181168]\n",
            " [0.55237096 0.91138021 0.33269067 0.06410911 0.38393073 0.57963755\n",
            "  0.11205703 0.0418717  0.4251752  0.23818834]\n",
            " [0.91261536 0.75131944 0.25392589 0.60851537 0.23607837 0.48193483\n",
            "  0.86666318 0.82703257 0.83960799 0.67005447]]\n",
            "576.7329047746507\n"
          ]
        }
      ]
    },
    {
      "cell_type": "markdown",
      "metadata": {
        "id": "y3PDxY8W1Gry"
      },
      "source": [
        "# III. Minimum residual scheme"
      ]
    },
    {
      "cell_type": "markdown",
      "metadata": {
        "id": "IbfUD6zy1Gry"
      },
      "source": [
        "### Task III.1\n",
        "\n",
        "Implement the $\\textit{minimum residual}$ scheme: an explicit non-stationary method, where at each step you select the iteration parameter $\\tau_n$ to minimize the residual $\\mathbf{r}_{n+1}$ given $\\mathbf{r}_n$. Test it on a random matrix, study the convergence to the solution, in terms of the norm of the residual and the deviation from the ground truth solution (which you can obtain using a direct method). Study how the iteration parameter $\\tau_n$ changes as iterations progress.\n",
        "\n",
        "(50% of the grade)"
      ]
    },
    {
      "cell_type": "code",
      "execution_count": null,
      "metadata": {
        "id": "60_IGETi1Gry",
        "colab": {
          "base_uri": "https://localhost:8080/"
        },
        "outputId": "ed594a83-e1d4-4080-e4bf-9dec860b3c5b"
      },
      "outputs": [
        {
          "output_type": "stream",
          "name": "stdout",
          "text": [
            "Solución:\n",
            "[ 0.03919429  0.03780037  0.04283232  0.02365951  0.05745031 -0.00030244\n",
            " -0.00577279  0.03177549 -0.00422849  0.05284648]\n",
            "Paramentos de iteracion: \n",
            "[0.052753954820858144, 0.06218738529697278, 0.05417593975731786, 0.061506362422169426, 0.05530993839707102, 0.060437341848485995, 0.055466488812815795, 0.06048091963713317, 0.05531708911926293]\n"
          ]
        }
      ],
      "source": [
        "import numpy as np\n",
        "\n",
        "def minres(A, b, n_iter=500, tol=1e-07):\n",
        "    x = np.zeros_like(b)\n",
        "    r = b - A @ x\n",
        "    p = r.copy()\n",
        "    T = []\n",
        "\n",
        "    for i in range(n_iter):\n",
        "        Ap = A @ p\n",
        "        alpha = np.dot(r, r) / np.dot(p, Ap)\n",
        "        x = x + alpha * p\n",
        "        r = r - alpha * Ap\n",
        "        beta = np.dot(r, r) / np.dot(p, Ap)\n",
        "        p = r + beta * p\n",
        "        T.append(alpha)\n",
        "\n",
        "        if np.linalg.norm(r) < tol:\n",
        "            break\n",
        "\n",
        "    return x, T\n",
        "\n",
        "\n",
        "x, T = minres(A, b)\n",
        "\n",
        "print(\"Solución:\")\n",
        "print(x)\n",
        "print(\"Paramentos de iteracion: \")\n",
        "print(T)\n",
        "\n",
        "\n",
        "\n",
        "#Pruebas para el vector solucion\n",
        "rtol = 1e-5\n",
        "atol = 1e-5\n",
        "\n",
        "\n",
        "xx = np.linalg.solve(A, b)\n",
        "\n",
        "np.testing.assert_allclose(A@x, b, rtol=rtol, atol=atol)\n",
        "np.testing.assert_allclose(x, xx, rtol=rtol, atol=atol)"
      ]
    }
  ],
  "metadata": {
    "kernelspec": {
      "display_name": "Python 3",
      "language": "python",
      "name": "python3"
    },
    "language_info": {
      "codemirror_mode": {
        "name": "ipython",
        "version": 3
      },
      "file_extension": ".py",
      "mimetype": "text/x-python",
      "name": "python",
      "nbconvert_exporter": "python",
      "pygments_lexer": "ipython3",
      "version": "3.5.2"
    },
    "colab": {
      "provenance": [],
      "include_colab_link": true
    }
  },
  "nbformat": 4,
  "nbformat_minor": 0
}