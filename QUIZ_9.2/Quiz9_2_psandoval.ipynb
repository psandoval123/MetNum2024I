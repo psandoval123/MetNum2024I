{
  "nbformat": 4,
  "nbformat_minor": 0,
  "metadata": {
    "colab": {
      "provenance": [],
      "include_colab_link": true
    },
    "kernelspec": {
      "name": "python3",
      "display_name": "Python 3"
    },
    "language_info": {
      "name": "python"
    }
  },
  "cells": [
    {
      "cell_type": "markdown",
      "metadata": {
        "id": "view-in-github",
        "colab_type": "text"
      },
      "source": [
        "<a href=\"https://colab.research.google.com/github/psandoval123/MetNum2024I/blob/main/QUIZ_9.2/Quiz9_2_psandoval.ipynb\" target=\"_parent\"><img src=\"https://colab.research.google.com/assets/colab-badge.svg\" alt=\"Open In Colab\"/></a>"
      ]
    },
    {
      "cell_type": "markdown",
      "source": [
        "### Cramer by hand\n",
        "\n",
        "$$A = \\left[\n",
        "  \\begin{array}{cc}\n",
        "1 & 2\\\\\n",
        "3 & 4\n",
        "\\end{array}\n",
        "\\right],  \n",
        "b= \\left[\n",
        "\\begin{array}{c}\n",
        "5\\\\\n",
        "6\n",
        "\\end{array}\n",
        "\\right]\n",
        "$$\n",
        "$$\n",
        "Ax =B\n",
        "$$\n",
        "$$  \n",
        "\\left[\n",
        "  \\begin{array}{cc}\n",
        "1 & 2\\\\\n",
        "3 & 4\n",
        "\\end{array}\n",
        "\\right]\n",
        "\\left[\n",
        "\\begin{array}{c}\n",
        "x_1\\\\\n",
        "x_2\n",
        "\\end{array}\n",
        "\\right]  \n",
        "=\n",
        "\\left[\n",
        "\\begin{array}{c}\n",
        "5\\\\\n",
        "6\n",
        "\\end{array}\n",
        "\\right]\n",
        "$$\n",
        "\n",
        "$$Det\\ A =  (1 * 4) - (3 * 2)  = 4 - 6 = -2$$\n",
        "\n",
        "$$A_1 = \\left[\n",
        "  \\begin{array}{cc}\n",
        "5 & 2\\\\\n",
        "6 & 4\n",
        "\\end{array}\n",
        "\\right]\n",
        "$$\n",
        "\n",
        "$$Det\\ A_1 = (5 * 4) - (6 * 2) = 20 - 12 =  8$$\n",
        "\n",
        "$$x_1 =  \\frac{Det\\ A_1}{Det\\ A}= \\frac{8}{-2} =  -4$$\n",
        "\n",
        "$$A_2 = \\left[\n",
        "  \\begin{array}{cc}\n",
        "1 & 5\\\\\n",
        "3 & 6\n",
        "\\end{array}\n",
        "\\right]\n",
        "$$\n",
        "\n",
        "$$Det\\ A_2 = (1*6) - (3*5)  = 6 -15 = -9$$\n",
        "\n",
        "$$x_2 = \\frac{Det\\ A_2}{Det\\ A}= \\frac{-9}{-2} =  \\frac{9}{2}$$"
      ],
      "metadata": {
        "id": "SUmNm2PmfHU7"
      }
    },
    {
      "cell_type": "markdown",
      "source": [
        "- ***Adding a single digit to any number requires about 7.30 bits of processing.*** - World Mental Calculation: News and Resources for Competitive and Advanced Mental Calculation https://worldmentalcalculation.com/2019/06/30/fastest-possible-processing-speed-of-the-human-brain/\n",
        "\n",
        "- ***The human brain can process 11 million bits of information every second. But our conscious minds can handle only 40 to 50 bits of information a second.*** - Understanding Unconscious Bias https://www.npr.org/2020/07/14/891140598/understanding-unconscious-bias\n",
        "\n",
        "- ***A new way to analyze human reaction times shows that the brain processes data no faster than 60 bits per second.***- New Measure of Human Brain Processing Speed https://www.technologyreview.com/2009/08/25/210267/new-measure-of-human-brain-processing-speed/\n",
        "\n",
        "\n"
      ],
      "metadata": {
        "id": "3rH8z64pk2XV"
      }
    },
    {
      "cell_type": "markdown",
      "source": [
        "# Number of operations to compute a determinant by cofactor expasion\n",
        "- Cofactor expansion https://people.math.carleton.ca/~kcheung/math/notes/MATH1107/07/07_cofactor_expansion.html\n",
        "## Definition of A(i∣j)\n",
        "Let $A$ be an $n\\times n$ matrix. Let $i,j \\in \\{1,…,n\\}$. We define $A(i∣j)$  to be the matrix obtained from $A$ by removing row $i$ and column $j$ from $A$.\n",
        "\n",
        "## Cofactor formula\n",
        "One way of computing the determinant of an $n\\times n$  matrix\n",
        "\n",
        "$$A = \\left[\n",
        "  \\begin{array}{cccc}\n",
        "a_{11} & a_{12} & \\cdots & a_{1n}\\\\\n",
        "a_{21} & a_{22} & \\cdots & a_{2n}\\\\\n",
        "\\vdots  & \\vdots & \\ddots & \\vdots\\\\\n",
        "a_{n1} & a_{n2} & \\cdots & a_{nn}\\\\\n",
        "\\end{array}\n",
        "\\right]\n",
        "$$\n",
        "is to use the following formula called the cofactor formula.\n",
        "\n",
        "Pick either any $i\\ \\in \\{1,…,n\\}$ (fixed row) or $i\\ \\in \\{1,…,n\\}$ (fixed column). Then\n",
        "\n",
        "$$\\det(A)  = \\sum_{j=1}^n (-1)^{i+j}a_{ij} \\det(A(i∣j)) $$\n",
        "\n",
        "\n",
        "$C_{i,j}= (-1)^{i+j}a_{ij} \\det(A(i∣j))$ is called a cofactor of $A$.\n",
        "\n",
        "$$\\det(A)  = \\sum_{j=1}^n C_{i,j} $$\n",
        "\n"
      ],
      "metadata": {
        "id": "CgrSIpDOnaGQ"
      }
    },
    {
      "cell_type": "code",
      "source": [
        "# Code from https://stackoverflow.com/questions/16510111/computing-determinant-of-a-matrix-nxn-recursively\n",
        "\n",
        "import numpy as np\n",
        "\n",
        "def smaller_matrix(original_matrix,row, column):\n",
        "    for ii in range(len(original_matrix)):\n",
        "        new_matrix=np.delete(original_matrix,ii,0)\n",
        "        new_matrix=np.delete(new_matrix,column,1)\n",
        "        return new_matrix\n",
        "\n",
        "\n",
        "def determinant(matrix):\n",
        "    \"\"\"Returns a determinant of a matrix by recursive method.\"\"\"\n",
        "    (r,c) = matrix.shape\n",
        "    if r != c:\n",
        "        print(\"Error!Not a square matrix!\")\n",
        "        return None\n",
        "    elif r==2:\n",
        "        simple_determinant = matrix[0][0]*matrix[1][1]-matrix[0][1]*matrix[1][0]\n",
        "        return simple_determinant\n",
        "    else:\n",
        "        answer=0\n",
        "        for j in range(r):\n",
        "            cofactor = (-1)**(0+j) * matrix[0][j] * determinant(smaller_matrix(matrix, 0, j))\n",
        "            answer+= cofactor\n",
        "        return answer"
      ],
      "metadata": {
        "id": "J-joKRBhC7eF"
      },
      "execution_count": null,
      "outputs": []
    },
    {
      "cell_type": "code",
      "source": [
        "#test the function\n",
        "#Only works for numpy.array input\n",
        "np.random.seed(1)"
      ],
      "metadata": {
        "id": "Il2pcRD4DptG"
      },
      "execution_count": null,
      "outputs": []
    },
    {
      "cell_type": "code",
      "source": [
        "n = 2\n",
        "matrix=np.random.randint(-5,5,size=(n,n))\n",
        "matrix"
      ],
      "metadata": {
        "colab": {
          "base_uri": "https://localhost:8080/"
        },
        "id": "AgKC1-aiFRW2",
        "outputId": "79f92fad-d00f-4d25-ddef-5948d48f5a36"
      },
      "execution_count": null,
      "outputs": [
        {
          "output_type": "execute_result",
          "data": {
            "text/plain": [
              "array([[0, 3],\n",
              "       [4, 0]])"
            ]
          },
          "metadata": {},
          "execution_count": 6
        }
      ]
    },
    {
      "cell_type": "code",
      "source": [
        "determinant(matrix)"
      ],
      "metadata": {
        "colab": {
          "base_uri": "https://localhost:8080/"
        },
        "outputId": "629db575-7ce5-46ce-e5a0-dd796b8983c8",
        "id": "oI0rUp-SDptH"
      },
      "execution_count": null,
      "outputs": [
        {
          "output_type": "execute_result",
          "data": {
            "text/plain": [
              "-12"
            ]
          },
          "metadata": {},
          "execution_count": 7
        }
      ]
    },
    {
      "cell_type": "code",
      "source": [
        "np.linalg.det(matrix)"
      ],
      "metadata": {
        "colab": {
          "base_uri": "https://localhost:8080/"
        },
        "id": "iqZv7iK-KKXH",
        "outputId": "f67e1495-4df5-49b1-d795-d129569c6eef"
      },
      "execution_count": null,
      "outputs": [
        {
          "output_type": "execute_result",
          "data": {
            "text/plain": [
              "-12.0"
            ]
          },
          "metadata": {},
          "execution_count": 8
        }
      ]
    },
    {
      "cell_type": "code",
      "source": [
        "round(np.linalg.det(matrix))"
      ],
      "metadata": {
        "colab": {
          "base_uri": "https://localhost:8080/"
        },
        "id": "sY21rHM-KdlO",
        "outputId": "2b129051-acb8-4df6-ffea-d65071f9f265"
      },
      "execution_count": null,
      "outputs": [
        {
          "output_type": "execute_result",
          "data": {
            "text/plain": [
              "-12"
            ]
          },
          "metadata": {},
          "execution_count": 9
        }
      ]
    },
    {
      "cell_type": "code",
      "source": [
        "n = 5\n",
        "matrix=np.diag(np.random.randint(-10,10,size=(n)))\n",
        "matrix"
      ],
      "metadata": {
        "colab": {
          "base_uri": "https://localhost:8080/"
        },
        "id": "-QXGZWFIDs5k",
        "outputId": "bc99a982-c2f2-43d9-a349-c4dab641934f"
      },
      "execution_count": null,
      "outputs": [
        {
          "output_type": "execute_result",
          "data": {
            "text/plain": [
              "array([[  5,   0,   0,   0,   0],\n",
              "       [  0, -10,   0,   0,   0],\n",
              "       [  0,   0,   6,   0,   0],\n",
              "       [  0,   0,   0,  -9,   0],\n",
              "       [  0,   0,   0,   0,   2]])"
            ]
          },
          "metadata": {},
          "execution_count": 10
        }
      ]
    },
    {
      "cell_type": "code",
      "source": [
        "determinant(matrix)"
      ],
      "metadata": {
        "colab": {
          "base_uri": "https://localhost:8080/"
        },
        "id": "VP6hRwhwD-3W",
        "outputId": "e0df063d-12ef-4648-9388-dd01b730cab9"
      },
      "execution_count": null,
      "outputs": [
        {
          "output_type": "execute_result",
          "data": {
            "text/plain": [
              "5400"
            ]
          },
          "metadata": {},
          "execution_count": 11
        }
      ]
    },
    {
      "cell_type": "code",
      "source": [
        "np.linalg.det(matrix)"
      ],
      "metadata": {
        "colab": {
          "base_uri": "https://localhost:8080/"
        },
        "id": "8NV7Zvp-KtRz",
        "outputId": "122b07bf-e693-499e-b5c3-8cc333eeaae5"
      },
      "execution_count": null,
      "outputs": [
        {
          "output_type": "execute_result",
          "data": {
            "text/plain": [
              "5400.000000000003"
            ]
          },
          "metadata": {},
          "execution_count": 12
        }
      ]
    },
    {
      "cell_type": "code",
      "source": [
        "round(np.linalg.det(matrix))"
      ],
      "metadata": {
        "colab": {
          "base_uri": "https://localhost:8080/"
        },
        "id": "HXKK3weLKt5T",
        "outputId": "4628f794-5bce-458f-a67c-10f8647d0fd2"
      },
      "execution_count": null,
      "outputs": [
        {
          "output_type": "execute_result",
          "data": {
            "text/plain": [
              "5400"
            ]
          },
          "metadata": {},
          "execution_count": 13
        }
      ]
    },
    {
      "cell_type": "code",
      "source": [
        "# Modified from the previous code\n",
        "import numpy as np\n",
        "\n",
        "# A a squared numpy matrix\n",
        "def det(A):\n",
        "    \"\"\"Returns a determinant of a matrix by recursive method.\"\"\"\n",
        "    (r,c) = A.shape\n",
        "    if r != c:\n",
        "        print(\"Error!Not a square matrix!\")\n",
        "        return None\n",
        "    elif r==1:\n",
        "          # the code with  r==2 is more efficient but we use this\n",
        "         # because the number of operations is easier to compute\n",
        "        return A[0][0]\n",
        "    else:\n",
        "        answer=0\n",
        "        for j in range(r):\n",
        "            s = 1 if (0+j)%2 == 0 else -1\n",
        "            Aij = np.delete(A,0,0)\n",
        "            Aij = np.delete(Aij,j,1)\n",
        "            cofactor = (s) * A[0][j] * det(Aij)\n",
        "            answer+= cofactor\n",
        "        return answer"
      ],
      "metadata": {
        "id": "B258g8lnBgnG"
      },
      "execution_count": null,
      "outputs": []
    },
    {
      "cell_type": "code",
      "source": [
        "#test the function\n",
        "#Only works for numpy.array input\n",
        "np.random.seed(1)"
      ],
      "metadata": {
        "id": "ZR2mjlqiGdM6"
      },
      "execution_count": null,
      "outputs": []
    },
    {
      "cell_type": "code",
      "source": [
        "n = 2\n",
        "A=np.random.randint(-5,5,size=(n,n))\n",
        "A"
      ],
      "metadata": {
        "colab": {
          "base_uri": "https://localhost:8080/"
        },
        "outputId": "b6b541eb-e6a2-49a9-d2c2-79bb2cb9e7f1",
        "id": "jPpBCFaoGlak"
      },
      "execution_count": null,
      "outputs": [
        {
          "output_type": "execute_result",
          "data": {
            "text/plain": [
              "array([[0, 3],\n",
              "       [4, 0]])"
            ]
          },
          "metadata": {},
          "execution_count": 16
        }
      ]
    },
    {
      "cell_type": "code",
      "source": [
        "det(A)"
      ],
      "metadata": {
        "colab": {
          "base_uri": "https://localhost:8080/"
        },
        "outputId": "e9334112-7bfd-45de-9f57-06e45c561923",
        "id": "WKbuirZeGlak"
      },
      "execution_count": null,
      "outputs": [
        {
          "output_type": "execute_result",
          "data": {
            "text/plain": [
              "-12"
            ]
          },
          "metadata": {},
          "execution_count": 17
        }
      ]
    },
    {
      "cell_type": "code",
      "source": [
        "determinant(A)"
      ],
      "metadata": {
        "colab": {
          "base_uri": "https://localhost:8080/"
        },
        "id": "_B5xBFirTvQm",
        "outputId": "1066272c-b5e2-47e8-a0fc-76be17e31bb0"
      },
      "execution_count": null,
      "outputs": [
        {
          "output_type": "execute_result",
          "data": {
            "text/plain": [
              "-12"
            ]
          },
          "metadata": {},
          "execution_count": 18
        }
      ]
    },
    {
      "cell_type": "code",
      "source": [
        "np.linalg.det(A)"
      ],
      "metadata": {
        "colab": {
          "base_uri": "https://localhost:8080/"
        },
        "outputId": "cefbdd72-5872-4667-accc-a058214086fe",
        "id": "bRyF2dsFLbXC"
      },
      "execution_count": null,
      "outputs": [
        {
          "output_type": "execute_result",
          "data": {
            "text/plain": [
              "-12.0"
            ]
          },
          "metadata": {},
          "execution_count": 19
        }
      ]
    },
    {
      "cell_type": "code",
      "source": [
        "round(np.linalg.det(A))"
      ],
      "metadata": {
        "colab": {
          "base_uri": "https://localhost:8080/"
        },
        "outputId": "61289f7a-a0ac-49c3-e907-79cb80bcf392",
        "id": "sOe1w9FPLbXD"
      },
      "execution_count": null,
      "outputs": [
        {
          "output_type": "execute_result",
          "data": {
            "text/plain": [
              "-12"
            ]
          },
          "metadata": {},
          "execution_count": 20
        }
      ]
    },
    {
      "cell_type": "code",
      "source": [
        "n = 10\n",
        "\n",
        "A=np.random.randint(-10,10,size=(n,n))\n",
        "\n",
        "A"
      ],
      "metadata": {
        "colab": {
          "base_uri": "https://localhost:8080/"
        },
        "outputId": "ac507e8a-bb2f-4c9a-b844-864a3885761b",
        "id": "jzFX1soHGlak"
      },
      "execution_count": null,
      "outputs": [
        {
          "output_type": "execute_result",
          "data": {
            "text/plain": [
              "array([[  5, -10,   6,  -9,   2,  -3,   3,  -4,   8,  -5],\n",
              "       [  8,   1,   0,   4,   8,  -6,  -1,   7, -10,   3],\n",
              "       [ -1,  -1,  -3,  -9, -10,   7,  -2,   3,   9,   5],\n",
              "       [  0,  -2,  -3,  -7,  -4,   7,  -7,  -6,   7,   1],\n",
              "       [  2,   6,   3,   9,  -1,   8,   5, -10,  -6,   5],\n",
              "       [ -8,  -3,  -2,  -1,  -7,  -3,  -6,  -5,   9,  -4],\n",
              "       [ -2, -10,  -8,   0,   5,   5,  -3,   9,   0,   4],\n",
              "       [-10,  -9,   7,   3,  -7, -10,   3,  -4,  -4,  -8],\n",
              "       [  2,   1,  -3,   3,  -2,   1,   2,   1,  -6,  -3],\n",
              "       [ -3,   3,  -6,   6,   8, -10,   3,   0,   7,  -3]])"
            ]
          },
          "metadata": {},
          "execution_count": 21
        }
      ]
    },
    {
      "cell_type": "code",
      "source": [
        "import time\n",
        "\n",
        "start_time = time.time()\n",
        "d = det(A)\n",
        "end_time = time.time()"
      ],
      "metadata": {
        "id": "I97qAqxGGlak"
      },
      "execution_count": null,
      "outputs": []
    },
    {
      "cell_type": "code",
      "source": [
        "print(\"det(A): \",d)\n",
        "print(\"time: \",end_time - start_time)"
      ],
      "metadata": {
        "colab": {
          "base_uri": "https://localhost:8080/"
        },
        "id": "s7Ud-gBiTD0n",
        "outputId": "5c1b11d1-99c7-42c5-8fa7-1d813e8f9c5b"
      },
      "execution_count": null,
      "outputs": [
        {
          "output_type": "stream",
          "name": "stdout",
          "text": [
            "det(A):  29129065307\n",
            "time:  75.68686175346375\n"
          ]
        }
      ]
    },
    {
      "cell_type": "code",
      "source": [
        "import time\n",
        "\n",
        "start_time = time.time()\n",
        "d = determinant(A)\n",
        "end_time = time.time()"
      ],
      "metadata": {
        "id": "kjLXFQOeTRd2"
      },
      "execution_count": null,
      "outputs": []
    },
    {
      "cell_type": "code",
      "source": [
        "print(\"determinant(A): \",d)\n",
        "print(\"time: \",end_time - start_time)"
      ],
      "metadata": {
        "colab": {
          "base_uri": "https://localhost:8080/"
        },
        "id": "_TQFWy4ZSiDZ",
        "outputId": "fe391704-f7fa-4db7-ff5b-81df50fbc17c"
      },
      "execution_count": null,
      "outputs": [
        {
          "output_type": "stream",
          "name": "stdout",
          "text": [
            "determinant(A):  29129065307\n",
            "time:  34.383426904678345\n"
          ]
        }
      ]
    },
    {
      "cell_type": "code",
      "source": [
        "import time\n",
        "\n",
        "start_time = time.time()\n",
        "d = np.linalg.det(A)\n",
        "end_time = time.time()"
      ],
      "metadata": {
        "id": "jL23i77VT55-"
      },
      "execution_count": null,
      "outputs": []
    },
    {
      "cell_type": "code",
      "source": [
        "print(\"np.linalg.det(A): \",d)\n",
        "print(\"time: \",end_time - start_time)"
      ],
      "metadata": {
        "colab": {
          "base_uri": "https://localhost:8080/"
        },
        "id": "n94nx14VT5wn",
        "outputId": "e8e69862-7650-45e7-8e2e-547a5f6ce855"
      },
      "execution_count": null,
      "outputs": [
        {
          "output_type": "stream",
          "name": "stdout",
          "text": [
            "np.linalg.det(A):  29129065306.99992\n",
            "time:  0.0003445148468017578\n"
          ]
        }
      ]
    },
    {
      "cell_type": "markdown",
      "source": [
        "# Estimating the time by instruction in Python in a Colab machine"
      ],
      "metadata": {
        "id": "Ssedt2z56DNC"
      }
    },
    {
      "cell_type": "code",
      "source": [
        "import numpy as np\n",
        "\n",
        "n = 100\n",
        "\n",
        "A = np.ones((n,n))\n",
        "\n",
        "A"
      ],
      "metadata": {
        "colab": {
          "base_uri": "https://localhost:8080/"
        },
        "id": "1KhlyeNi4uwa",
        "outputId": "902184eb-2893-4f24-fc00-3145517474c1"
      },
      "execution_count": null,
      "outputs": [
        {
          "output_type": "execute_result",
          "data": {
            "text/plain": [
              "array([[1., 1., 1., ..., 1., 1., 1.],\n",
              "       [1., 1., 1., ..., 1., 1., 1.],\n",
              "       [1., 1., 1., ..., 1., 1., 1.],\n",
              "       ...,\n",
              "       [1., 1., 1., ..., 1., 1., 1.],\n",
              "       [1., 1., 1., ..., 1., 1., 1.],\n",
              "       [1., 1., 1., ..., 1., 1., 1.]])"
            ]
          },
          "metadata": {},
          "execution_count": 28
        }
      ]
    },
    {
      "cell_type": "code",
      "source": [
        "B = np.ones((n,n))\n",
        "\n",
        "B"
      ],
      "metadata": {
        "colab": {
          "base_uri": "https://localhost:8080/"
        },
        "id": "RKtHO3UY5M87",
        "outputId": "41c0bff2-2c83-43f8-a0b5-ae916f1b3f8a"
      },
      "execution_count": null,
      "outputs": [
        {
          "output_type": "execute_result",
          "data": {
            "text/plain": [
              "array([[1., 1., 1., ..., 1., 1., 1.],\n",
              "       [1., 1., 1., ..., 1., 1., 1.],\n",
              "       [1., 1., 1., ..., 1., 1., 1.],\n",
              "       ...,\n",
              "       [1., 1., 1., ..., 1., 1., 1.],\n",
              "       [1., 1., 1., ..., 1., 1., 1.],\n",
              "       [1., 1., 1., ..., 1., 1., 1.]])"
            ]
          },
          "metadata": {},
          "execution_count": 29
        }
      ]
    },
    {
      "cell_type": "code",
      "source": [
        "import time\n",
        "\n",
        "C= np.zeros((n,n))\n",
        "\n",
        "start_time = time.time()\n",
        "for i in range(n):\n",
        "        for j in range(n):\n",
        "            C[i][j] = 0\n",
        "            for k in range(len(A[0])):\n",
        "                C[i][j] += A[i][k] * B[k][j]\n",
        "end_time = time.time()\n",
        "print(end_time - start_time)"
      ],
      "metadata": {
        "colab": {
          "base_uri": "https://localhost:8080/"
        },
        "id": "0UFSLi-F5P0a",
        "outputId": "74850447-796a-4b12-8c6d-c15921448a56"
      },
      "execution_count": null,
      "outputs": [
        {
          "output_type": "stream",
          "name": "stdout",
          "text": [
            "1.358677625656128\n"
          ]
        }
      ]
    },
    {
      "cell_type": "code",
      "source": [
        "C"
      ],
      "metadata": {
        "colab": {
          "base_uri": "https://localhost:8080/"
        },
        "id": "h9zr4Z9P61bs",
        "outputId": "60958a15-4e2c-495e-e273-fda065a90c23"
      },
      "execution_count": null,
      "outputs": [
        {
          "output_type": "execute_result",
          "data": {
            "text/plain": [
              "array([[100., 100., 100., ..., 100., 100., 100.],\n",
              "       [100., 100., 100., ..., 100., 100., 100.],\n",
              "       [100., 100., 100., ..., 100., 100., 100.],\n",
              "       ...,\n",
              "       [100., 100., 100., ..., 100., 100., 100.],\n",
              "       [100., 100., 100., ..., 100., 100., 100.],\n",
              "       [100., 100., 100., ..., 100., 100., 100.]])"
            ]
          },
          "metadata": {},
          "execution_count": 31
        }
      ]
    },
    {
      "cell_type": "code",
      "source": [
        "time_by_oper_python = (end_time - start_time)/(2*n**3 - n**2)\n",
        "\n",
        "time_by_oper_python"
      ],
      "metadata": {
        "colab": {
          "base_uri": "https://localhost:8080/"
        },
        "id": "iEhaMEK77Ko7",
        "outputId": "1333cbde-a369-4292-ba1f-779e2174aba1"
      },
      "execution_count": null,
      "outputs": [
        {
          "output_type": "execute_result",
          "data": {
            "text/plain": [
              "6.82752575706597e-07"
            ]
          },
          "metadata": {},
          "execution_count": 32
        }
      ]
    },
    {
      "cell_type": "code",
      "source": [
        "import time\n",
        "import numpy as np\n",
        "\n",
        "start_time = time.time()\n",
        "C = A@B\n",
        "end_time = time.time()\n",
        "print(end_time - start_time)"
      ],
      "metadata": {
        "colab": {
          "base_uri": "https://localhost:8080/"
        },
        "id": "TfGsw6UF9o-a",
        "outputId": "b9c32662-dab7-422c-f8fd-5b727eb3e5ba"
      },
      "execution_count": null,
      "outputs": [
        {
          "output_type": "stream",
          "name": "stdout",
          "text": [
            "0.01747894287109375\n"
          ]
        }
      ]
    },
    {
      "cell_type": "code",
      "source": [
        "C"
      ],
      "metadata": {
        "colab": {
          "base_uri": "https://localhost:8080/"
        },
        "id": "Q5MtZtVT93oQ",
        "outputId": "591ed8dc-3a25-4117-b3c2-11aeda861cfe"
      },
      "execution_count": null,
      "outputs": [
        {
          "output_type": "execute_result",
          "data": {
            "text/plain": [
              "array([[100., 100., 100., ..., 100., 100., 100.],\n",
              "       [100., 100., 100., ..., 100., 100., 100.],\n",
              "       [100., 100., 100., ..., 100., 100., 100.],\n",
              "       ...,\n",
              "       [100., 100., 100., ..., 100., 100., 100.],\n",
              "       [100., 100., 100., ..., 100., 100., 100.],\n",
              "       [100., 100., 100., ..., 100., 100., 100.]])"
            ]
          },
          "metadata": {},
          "execution_count": 34
        }
      ]
    },
    {
      "cell_type": "code",
      "source": [
        "time_by_oper_numpy = (end_time - start_time)/(2*n**3 - n**2)\n",
        "\n",
        "time_by_oper_numpy"
      ],
      "metadata": {
        "colab": {
          "base_uri": "https://localhost:8080/"
        },
        "id": "DTVYQYxT-TsJ",
        "outputId": "9c50cec6-a0ba-420b-fcd8-00c709aa83df"
      },
      "execution_count": null,
      "outputs": [
        {
          "output_type": "execute_result",
          "data": {
            "text/plain": [
              "8.783388377434044e-09"
            ]
          },
          "metadata": {},
          "execution_count": 35
        }
      ]
    },
    {
      "cell_type": "markdown",
      "source": [
        "# Time estimation for the digital computer computation of a 3 x 3 matrix determinant by cofactor expansion\n",
        "\n",
        "The number of operations $(+,-,*)$ perfomed  *det(A)* algorithm that calculates\n",
        "\n",
        "$$\\det(A)  = \\sum_{j=1}^n (-1)^{i+j}a_{ij} \\det(A(i∣j)) $$\n",
        "\n",
        "is given by\n",
        "\n",
        "$$\\begin{array}{lll}\n",
        "T(n) & =&  nT(n-1) + 5n , T(1) = 1\\\\\n",
        "\\end{array}\n",
        "$$\n",
        "\n",
        "$$\\begin{array}{lll}\n",
        "T(n) & =&  nT(n-1) + 5n\\\\\n",
        "     & =&  n[(n-1) T(n-2) + 5 (n-1) +10] + 5n  \\\\\n",
        "     & =&  n(n-1) T(n-2) + 5 n  (n-1) + 5n \\\\\n",
        "     & =&  n(n-1) [(n-2) T(n-3) + 5 (n-2)] + 5 n(n-1) + 5n\\\\\n",
        "     & = & n(n-1)(n-2) T(n-3) + 5n(n-1)(n-2)+  5 n  (n-1) + 5n \\\\\n",
        "     & \\vdots\\\\\n",
        "     & = &  n(n-1)(n-2)\\cdots (n -(n-2))  T(1) + [5n(n-1)(n-2)(n-3)\\cdots (n -(n-3))] + \\cdots + [5 n (n-1)]+ 5n \\\\\n",
        "    & = & n! + [5n(n-1)(n-2)(n-3)\\cdots 2] + [5n(n-1)(n-2)(n-3)\\cdots 3]+ \\cdots +[5 n (n-1) (n-3)] + [5 n (n-1)]+ 5n  \n",
        "\\end{array}\n",
        "$$\n",
        "\n",
        "$$T(n) = n! + 5 \\sum_{i=0}^{n-1} n!/i! = n! + 5 n!\\sum_{i=0}^{n-1} \\frac{1}{i!} < n! + 5 e n! < 16 n!  $$\n",
        "\n",
        "1. Asumming that an arithmetic operation takes the *time_by_oper_python* estimated before,  what is the maximun square matrix size for which the deteminant can be computed with cofactor extesion in $\\le$ 3 minute. Report the time at [LABCramer](https://docs.google.com/spreadsheets/d/1JNUbuj3QHcyPmp8i6kNreUFucj2mOvKHkCFHHy7zfws/edit?usp=sharing).\n",
        "\n",
        "2. Run an experiment with a random matrix of that size and report the time at [LABCramer](https://docs.google.com/spreadsheets/d/1JNUbuj3QHcyPmp8i6kNreUFucj2mOvKHkCFHHy7zfws/edit?usp=sharing).\n",
        "\n",
        "If the determinant of a $n \\times n$ square matrix takes $16 n!$ operations how much takes the Crammer solution of $n \\times n$ systems of linear equations?\n",
        "\n",
        "\n",
        "\n",
        "\n"
      ],
      "metadata": {
        "id": "PhAai3wzo_Tc"
      }
    },
    {
      "cell_type": "markdown",
      "source": [
        "#*PUNTO 1*"
      ],
      "metadata": {
        "id": "jVyCzC0fbsm7"
      }
    },
    {
      "cell_type": "code",
      "source": [
        "import math\n",
        "\n",
        "def tiempo_cofactor(n):\n",
        "    return math.factorial(n) + 5 * sum(math.factorial(n) // math.factorial(i) for i in range(n))\n",
        "\n",
        "time_by_oper_python= 5.8*10**-7\n",
        "\n",
        "tiempo_limite = 3 * 60\n",
        "\n",
        "n = 1\n",
        "while True:\n",
        "    tiempo_total = tiempo_cofactor(n) * time_by_oper_python\n",
        "    if tiempo_total > tiempo_limite:\n",
        "        break\n",
        "    n += 1\n",
        "\n",
        "print(\"El tamaño máximo de matriz cuadrada es:\", n-1)\n",
        "print(\"El tiempo total en segundos es:\", tiempo_cofactor(n-1) * time_by_oper_python)"
      ],
      "metadata": {
        "id": "RmaNcjNJbsDQ",
        "outputId": "67d112b8-0c63-40ed-8fed-d90164b2cca3",
        "colab": {
          "base_uri": "https://localhost:8080/"
        }
      },
      "execution_count": null,
      "outputs": [
        {
          "output_type": "stream",
          "name": "stdout",
          "text": [
            "El tamaño máximo de matriz cuadrada es: 10\n",
            "El tiempo total en segundos es: 30.710593999999997\n"
          ]
        }
      ]
    },
    {
      "cell_type": "markdown",
      "source": [
        "#*PUNTO 2*"
      ],
      "metadata": {
        "id": "Bpf5nPapcs5t"
      }
    },
    {
      "cell_type": "code",
      "source": [
        "import numpy as np\n",
        "import math\n",
        "import time\n",
        "\n",
        "\n",
        "def det_by_cofactor(matrix):\n",
        "    n = len(matrix)\n",
        "    if n == 1:\n",
        "        return matrix[0, 0]\n",
        "    det = 0\n",
        "    for j in range(n):\n",
        "        sign = (-1) ** (0 + j)\n",
        "        sub_matrix = np.delete(matrix, 0, axis=0)\n",
        "        sub_matrix = np.delete(sub_matrix, j, axis=1)\n",
        "        det += sign * matrix[0, j] * det_by_cofactor(sub_matrix)\n",
        "    return det\n",
        "\n",
        "\n",
        "max_matrix_size = 10\n",
        "\n",
        "random_matrix = np.random.randint(1, 10, size=(max_matrix_size, max_matrix_size))\n",
        "\n",
        "start_time = time.time()\n",
        "determinant = det_by_cofactor(random_matrix)\n",
        "end_time = time.time()\n",
        "\n",
        "time_by_oper_python = 5.8*10**-7\n",
        "tiempo_total= tiempo_cofactor(max_matrix_size) * time_by_oper_python\n",
        "\n",
        "# Reportar resultados\n",
        "print(\"Matriz aleatoria de tamaño\", max_matrix_size, \"x\", max_matrix_size, \":\\n\", random_matrix)\n",
        "print(\"Valor determinante:\", determinant)\n",
        "print(\"Tiempo de cálculo total (en segundos):\", tiempo_total)\n",
        "print(\"Tiempo de cálculo real (en segundos):\", end_time - start_time)\n"
      ],
      "metadata": {
        "id": "ALz9kK0cb4Rp",
        "outputId": "093d5cda-2c92-4326-bf53-f754c31651de",
        "colab": {
          "base_uri": "https://localhost:8080/"
        }
      },
      "execution_count": null,
      "outputs": [
        {
          "output_type": "stream",
          "name": "stdout",
          "text": [
            "Matriz aleatoria de tamaño 10 x 10 :\n",
            " [[9 5 1 2 9 3 4 2 3 8]\n",
            " [3 7 1 3 7 7 3 8 8 1]\n",
            " [7 6 2 5 7 1 7 6 2 3]\n",
            " [2 6 5 1 8 9 6 8 1 4]\n",
            " [2 5 5 7 9 9 3 8 6 6]\n",
            " [5 6 9 6 9 2 2 9 8 1]\n",
            " [4 5 3 1 4 6 2 3 5 4]\n",
            " [1 7 1 8 3 9 4 1 9 5]\n",
            " [3 1 4 9 2 5 4 4 7 8]\n",
            " [4 6 4 3 5 5 1 4 4 9]]\n",
            "Valor determinante: 100204958\n",
            "Tiempo de cálculo total (en segundos): 30.710593999999997\n",
            "Tiempo de cálculo real (en segundos): 75.96995806694031\n"
          ]
        }
      ]
    },
    {
      "cell_type": "markdown",
      "source": [
        "# Time estimation for the human computer computation of a 3 x 3 matrix determinant by cofactor expansion\n",
        "\n",
        " Write a 3 x 3 matrix with the first element as your list number Mod 10 and the rest row by row 1,2,3,...9 skipimg the first element, by example if youir list number is 12, your list number Mod 10 is 2 and the matrix is\n",
        "$$A = \\left[\n",
        "  \\begin{array}{ccc}\n",
        "2 & 1 & 3\\\\\n",
        "4 & 5 & 6\\\\\n",
        "7 & 8 & 9\\\\\n",
        "\\end{array}\n",
        "\\right]\n",
        "$$\n",
        "Use a chronometer like http://online-stopwatch.chronme.com/ to estimate the time to compute the determinant by using the procedure in the follo wing exmaple (https://people.math.carleton.ca/~kcheung/math/notes/MATH1107/07/07_cofactor_expansion.html):<br />  \n",
        "Let\n",
        "$$A = \\begin{bmatrix} 1 & 2 & 3\\\\ 4 & 5 & 6\\\\ 7 & 8 & 9 \\end{bmatrix}$$\n",
        "we compute $\\det(A)$ by expanding along row $2$ as <br /> <br />\n",
        "$$\\begin{eqnarray} \\det(A) & = & (-1)^{2+1}A_{2,1}\\det(A(2 \\mid 1)) + (-1)^{2+2}A_{2,2}\\det(A(2 \\mid 2)) + (-1)^{2+3}A_{2,3}\\det(A(2 \\mid 3)) \\\\ & = & -4\\left|\\begin{matrix} 2 & 3 \\\\ 8 & 9\\end{matrix}\\right| + 5\\left|\\begin{matrix} 1 & 3 \\\\ 7 & 9\\end{matrix}\\right| - 6\\left|\\begin{matrix} 1 & 2 \\\\ 7 & 8\\end{matrix}\\right| \\\\ & = & -4(2\\cdot 9 - 3\\cdot 8) + 5(1 \\cdot 9- 3\\cdot 7) - 6(1\\cdot 8 - 2 \\cdot 7) \\\\ & = & 24 - 60 + 36 \\\\ & = & 0 \\end{eqnarray}$$\n",
        "3. Report the time at [LABCramer](https://docs.google.com/spreadsheets/d/1JNUbuj3QHcyPmp8i6kNreUFucj2mOvKHkCFHHy7zfws/edit?usp=sharing)\n",
        "4. Report the value of the determinant at [LABCramer](https://docs.google.com/spreadsheets/d/1JNUbuj3QHcyPmp8i6kNreUFucj2mOvKHkCFHHy7zfws/edit?usp=sharing)\n"
      ],
      "metadata": {
        "id": "__brdhGadAXY"
      }
    },
    {
      "cell_type": "markdown",
      "source": [
        "## My list number is 27 Mod 10 is 7\n",
        "\n",
        "\n",
        "$$A = \\left[\n",
        "  \\begin{array}{ccc}\n",
        "7 & 1 & 2\\\\\n",
        "3 & 4 & 5\\\\\n",
        "6 & 8 & 9\\\\\n",
        "\\end{array}\n",
        "\\right]\n",
        "$$\n",
        "\n"
      ],
      "metadata": {
        "id": "bl-FJ4X2Ia-e"
      }
    },
    {
      "cell_type": "markdown",
      "source": [
        "#*PUNTO 3*"
      ],
      "metadata": {
        "id": "Ny-1eOnvejEo"
      }
    },
    {
      "cell_type": "markdown",
      "source": [
        "![image.png](data:image/png;base64,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)"
      ],
      "metadata": {
        "id": "LsJSoFl0qVYD"
      }
    },
    {
      "cell_type": "markdown",
      "source": [
        "#*PUNTO 4*"
      ],
      "metadata": {
        "id": "6LH92BowfL11"
      }
    },
    {
      "cell_type": "markdown",
      "source": [
        "### **Valor determinante = -25**"
      ],
      "metadata": {
        "id": "IEzv4PSFf2nZ"
      }
    }
  ]
}